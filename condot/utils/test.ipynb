{
 "cells": [
  {
   "cell_type": "code",
   "execution_count": null,
   "id": "initial_id",
   "metadata": {
    "collapsed": true,
    "is_executing": true
   },
   "outputs": [],
   "source": [
    "import torch"
   ]
  },
  {
   "cell_type": "code",
   "execution_count": 36,
   "outputs": [],
   "source": [
    "def to_device(*args):\n",
    "    device = torch.device(\"cuda\" if torch.cuda.is_available() else \"cpu\")\n",
    "    device_type = device.type\n",
    "    \n",
    "    args_on_device = []\n",
    "    \n",
    "    for x in args:\n",
    "        if device_type == 'cuda':\n",
    "            x = x.pin_memory().to(device, non_blocking=True)\n",
    "        else:\n",
    "            x = x.to(device), condition.to(device)\n",
    "        args_on_device.append(x)\n",
    "    \n",
    "    return tuple(args_on_device)\n",
    "    # return x, y, z"
   ],
   "metadata": {
    "collapsed": false,
    "ExecuteTime": {
     "end_time": "2023-10-10T15:55:54.274231086Z",
     "start_time": "2023-10-10T15:55:54.138108366Z"
    }
   },
   "id": "56902594a6b4a72c"
  },
  {
   "cell_type": "code",
   "execution_count": 36,
   "outputs": [],
   "source": [],
   "metadata": {
    "collapsed": false,
    "ExecuteTime": {
     "end_time": "2023-10-10T15:55:55.014188104Z",
     "start_time": "2023-10-10T15:55:54.877169870Z"
    }
   },
   "id": "44e7b7852ce36bbe"
  },
  {
   "cell_type": "code",
   "execution_count": 38,
   "outputs": [
    {
     "name": "stdout",
     "output_type": "stream",
     "text": [
      "cuda:0\n"
     ]
    }
   ],
   "source": [
    "x = torch.ones(size=(100, 100))\n",
    "x, y, z = to_device(x, x, x)\n",
    "print(x.device)"
   ],
   "metadata": {
    "collapsed": false,
    "ExecuteTime": {
     "end_time": "2023-10-10T15:55:59.557320741Z",
     "start_time": "2023-10-10T15:55:59.417199430Z"
    }
   },
   "id": "387093a15759f4af"
  },
  {
   "cell_type": "code",
   "execution_count": 22,
   "outputs": [
    {
     "data": {
      "text/plain": "tensor([[1., 1., 1.,  ..., 1., 1., 1.],\n        [1., 1., 1.,  ..., 1., 1., 1.],\n        [1., 1., 1.,  ..., 1., 1., 1.],\n        ...,\n        [1., 1., 1.,  ..., 1., 1., 1.],\n        [1., 1., 1.,  ..., 1., 1., 1.],\n        [1., 1., 1.,  ..., 1., 1., 1.]])"
     },
     "execution_count": 22,
     "metadata": {},
     "output_type": "execute_result"
    }
   ],
   "source": [],
   "metadata": {
    "collapsed": false,
    "ExecuteTime": {
     "end_time": "2023-10-10T15:52:21.973352325Z",
     "start_time": "2023-10-10T15:52:21.969585548Z"
    }
   },
   "id": "66b4d77eace86fd1"
  },
  {
   "cell_type": "code",
   "execution_count": null,
   "outputs": [],
   "source": [
    "\n",
    "device_type = 'cuda' if 'cuda' in device else 'cpu'\n",
    "if device_type == 'cuda':\n",
    "    x, y = x.pin_memory().to(device, non_blocking=True), y.pin_memory().to(device, non_blocking=True)\n",
    "else:\n",
    "    x, y = x.to(device), y.to(device)"
   ],
   "metadata": {
    "collapsed": false
   },
   "id": "ac2dda6de59d3daa"
  }
 ],
 "metadata": {
  "kernelspec": {
   "display_name": "Python 3",
   "language": "python",
   "name": "python3"
  },
  "language_info": {
   "codemirror_mode": {
    "name": "ipython",
    "version": 2
   },
   "file_extension": ".py",
   "mimetype": "text/x-python",
   "name": "python",
   "nbconvert_exporter": "python",
   "pygments_lexer": "ipython2",
   "version": "2.7.6"
  }
 },
 "nbformat": 4,
 "nbformat_minor": 5
}
