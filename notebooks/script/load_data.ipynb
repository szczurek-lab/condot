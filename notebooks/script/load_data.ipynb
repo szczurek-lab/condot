{
 "cells": [
  {
   "cell_type": "code",
   "execution_count": 2,
   "id": "7b2bd91767533ff",
   "metadata": {
    "collapsed": true,
    "ExecuteTime": {
     "end_time": "2023-10-20T21:59:57.245996544Z",
     "start_time": "2023-10-20T21:59:57.244599471Z"
    }
   },
   "outputs": [],
   "source": [
    "import torch\n",
    "import scanpy as sc\n",
    "import pandas as pd"
   ]
  },
  {
   "cell_type": "code",
   "execution_count": 4,
   "outputs": [],
   "source": [
    "adata = sc.read_h5ad(\n",
    "    '/projects/b1196/ewa_group/serniczek/data/02b_integration/02_hvg1000.h5ad'\n",
    ")\n",
    "adata.obs['control_batch'] = 1\n",
    "adata.obs['barcode'] = adata.obs.index\n",
    "adata.obs.reset_index(inplace=True)\n",
    "\n",
    "scbal_metad = pd.read_csv('/projects/b1196/ewa_group/serniczek/data/03_scbals_metad.csv')\n",
    "scbal_metad = scbal_metad.rename({'bal_barcode': 'individual'}, axis=1)\n",
    "\n",
    "new_metad = pd.merge(scbal_metad, adata.obs, on='individual', how='right')\n",
    "new_metad.index = new_metad['barcode']\n",
    "adata.obs = new_metad"
   ],
   "metadata": {
    "collapsed": false,
    "ExecuteTime": {
     "end_time": "2023-10-20T22:00:35.194511599Z",
     "start_time": "2023-10-20T22:00:25.271371502Z"
    }
   },
   "id": "initial_id"
  },
  {
   "cell_type": "code",
   "execution_count": 6,
   "outputs": [
    {
     "data": {
      "text/plain": "                          bal_idx  patient icu_stay_start_datetime  \\\nbarcode                                                              \nSC100_AAACCTGAGAAACCGC  1256/1/18   1256.0  2020-03-30 11:30:00.00   \nSC100_AAACCTGAGTCACGCC  1256/1/18   1256.0  2020-03-30 11:30:00.00   \nSC100_AAACCTGCACACCGCA  1256/1/18   1256.0  2020-03-30 11:30:00.00   \nSC100_AAACCTGCAGTTTACG  1256/1/18   1256.0  2020-03-30 11:30:00.00   \nSC100_AAACCTGGTCAAGCGA  1256/1/18   1256.0  2020-03-30 11:30:00.00   \n...                           ...      ...                     ...   \nSC99_TTTGTCAAGGATGCGT   1256/1/18   1256.0  2020-03-30 11:30:00.00   \nSC99_TTTGTCAAGGCAAAGA   1256/1/18   1256.0  2020-03-30 11:30:00.00   \nSC99_TTTGTCAAGTCGTACT   1256/1/18   1256.0  2020-03-30 11:30:00.00   \nSC99_TTTGTCACACCACCAG   1256/1/18   1256.0  2020-03-30 11:30:00.00   \nSC99_TTTGTCAGTTGGTGGA   1256/1/18   1256.0  2020-03-30 11:30:00.00   \n\n                       day_bucket_starts  ICU_stay  ICU_day     Episode_id  \\\nbarcode                                                                      \nSC100_AAACCTGAGAAACCGC        2020-04-16       1.0     18.0  1256/1/18/VAP   \nSC100_AAACCTGAGTCACGCC        2020-04-16       1.0     18.0  1256/1/18/VAP   \nSC100_AAACCTGCACACCGCA        2020-04-16       1.0     18.0  1256/1/18/VAP   \nSC100_AAACCTGCAGTTTACG        2020-04-16       1.0     18.0  1256/1/18/VAP   \nSC100_AAACCTGGTCAAGCGA        2020-04-16       1.0     18.0  1256/1/18/VAP   \n...                                  ...       ...      ...            ...   \nSC99_TTTGTCAAGGATGCGT         2020-04-16       1.0     18.0  1256/1/18/VAP   \nSC99_TTTGTCAAGGCAAAGA         2020-04-16       1.0     18.0  1256/1/18/VAP   \nSC99_TTTGTCAAGTCGTACT         2020-04-16       1.0     18.0  1256/1/18/VAP   \nSC99_TTTGTCACACCACCAG         2020-04-16       1.0     18.0  1256/1/18/VAP   \nSC99_TTTGTCAGTTGGTGGA         2020-04-16       1.0     18.0  1256/1/18/VAP   \n\n                         individual  Binary_outcome Discharge_disposition  \\\nbarcode                                                                     \nSC100_AAACCTGAGAAACCGC  1256-BAL-00             0.0                  Home   \nSC100_AAACCTGAGTCACGCC  1256-BAL-00             0.0                  Home   \nSC100_AAACCTGCACACCGCA  1256-BAL-00             0.0                  Home   \nSC100_AAACCTGCAGTTTACG  1256-BAL-00             0.0                  Home   \nSC100_AAACCTGGTCAAGCGA  1256-BAL-00             0.0                  Home   \n...                             ...             ...                   ...   \nSC99_TTTGTCAAGGATGCGT   1256-BAL-00             0.0                  Home   \nSC99_TTTGTCAAGGCAAAGA   1256-BAL-00             0.0                  Home   \nSC99_TTTGTCAAGTCGTACT   1256-BAL-00             0.0                  Home   \nSC99_TTTGTCACACCACCAG   1256-BAL-00             0.0                  Home   \nSC99_TTTGTCAGTTGGTGGA   1256-BAL-00             0.0                  Home   \n\n                        ... total_counts pct_counts_in_top_10_genes  \\\nbarcode                 ...                                           \nSC100_AAACCTGAGAAACCGC  ...       1437.0                  14.335421   \nSC100_AAACCTGAGTCACGCC  ...       1269.0                  13.238771   \nSC100_AAACCTGCACACCGCA  ...       1081.0                  12.395930   \nSC100_AAACCTGCAGTTTACG  ...       1189.0                  17.157275   \nSC100_AAACCTGGTCAAGCGA  ...       1932.0                  13.302277   \n...                     ...          ...                        ...   \nSC99_TTTGTCAAGGATGCGT   ...       2046.0                  13.440860   \nSC99_TTTGTCAAGGCAAAGA   ...       1768.0                  10.803167   \nSC99_TTTGTCAAGTCGTACT   ...       2087.0                  11.164351   \nSC99_TTTGTCACACCACCAG   ...       1519.0                  14.088216   \nSC99_TTTGTCAGTTGGTGGA   ...       2203.0                  12.846119   \n\n                       pct_counts_in_top_20_genes total_counts_mito  \\\nbarcode                                                               \nSC100_AAACCTGAGAAACCGC                  23.799582              45.0   \nSC100_AAACCTGAGTCACGCC                  19.779354              55.0   \nSC100_AAACCTGCACACCGCA                  19.241443              46.0   \nSC100_AAACCTGCAGTTTACG                  24.222035             101.0   \nSC100_AAACCTGGTCAAGCGA                  20.703934              69.0   \n...                                           ...               ...   \nSC99_TTTGTCAAGGATGCGT                   20.625611              61.0   \nSC99_TTTGTCAAGGCAAAGA                   16.968326              91.0   \nSC99_TTTGTCAAGTCGTACT                   18.447532              65.0   \nSC99_TTTGTCACACCACCAG                   21.329822             120.0   \nSC99_TTTGTCAGTTGGTGGA                   19.927372              62.0   \n\n                       pct_counts_mito total_counts_ribo pct_counts_ribo  \\\nbarcode                                                                    \nSC100_AAACCTGAGAAACCGC        3.131524             542.0       37.717468   \nSC100_AAACCTGAGTCACGCC        4.334121             278.0       21.907013   \nSC100_AAACCTGCACACCGCA        4.255319             225.0       20.814060   \nSC100_AAACCTGCAGTTTACG        8.494533             171.0       14.381833   \nSC100_AAACCTGGTCAAGCGA        3.571429             568.0       29.399586   \n...                                ...               ...             ...   \nSC99_TTTGTCAAGGATGCGT         2.981427             587.0       28.690126   \nSC99_TTTGTCAAGGCAAAGA         5.147059             371.0       20.984163   \nSC99_TTTGTCAAGTCGTACT         3.114519             515.0       24.676569   \nSC99_TTTGTCACACCACCAG         7.899934             289.0       19.025675   \nSC99_TTTGTCAGTTGGTGGA         2.814344             570.0       25.873808   \n\n                       n_counts control_batch                 barcode  \nbarcode                                                                \nSC100_AAACCTGAGAAACCGC    732.0             1  SC100_AAACCTGAGAAACCGC  \nSC100_AAACCTGAGTCACGCC    590.0             1  SC100_AAACCTGAGTCACGCC  \nSC100_AAACCTGCACACCGCA    474.0             1  SC100_AAACCTGCACACCGCA  \nSC100_AAACCTGCAGTTTACG    557.0             1  SC100_AAACCTGCAGTTTACG  \nSC100_AAACCTGGTCAAGCGA    866.0             1  SC100_AAACCTGGTCAAGCGA  \n...                         ...           ...                     ...  \nSC99_TTTGTCAAGGATGCGT     985.0             1   SC99_TTTGTCAAGGATGCGT  \nSC99_TTTGTCAAGGCAAAGA     773.0             1   SC99_TTTGTCAAGGCAAAGA  \nSC99_TTTGTCAAGTCGTACT    1009.0             1   SC99_TTTGTCAAGTCGTACT  \nSC99_TTTGTCACACCACCAG     728.0             1   SC99_TTTGTCACACCACCAG  \nSC99_TTTGTCAGTTGGTGGA    1083.0             1   SC99_TTTGTCAGTTGGTGGA  \n\n[3017150 rows x 64 columns]",
      "text/html": "<div>\n<style scoped>\n    .dataframe tbody tr th:only-of-type {\n        vertical-align: middle;\n    }\n\n    .dataframe tbody tr th {\n        vertical-align: top;\n    }\n\n    .dataframe thead th {\n        text-align: right;\n    }\n</style>\n<table border=\"1\" class=\"dataframe\">\n  <thead>\n    <tr style=\"text-align: right;\">\n      <th></th>\n      <th>bal_idx</th>\n      <th>patient</th>\n      <th>icu_stay_start_datetime</th>\n      <th>day_bucket_starts</th>\n      <th>ICU_stay</th>\n      <th>ICU_day</th>\n      <th>Episode_id</th>\n      <th>individual</th>\n      <th>Binary_outcome</th>\n      <th>Discharge_disposition</th>\n      <th>...</th>\n      <th>total_counts</th>\n      <th>pct_counts_in_top_10_genes</th>\n      <th>pct_counts_in_top_20_genes</th>\n      <th>total_counts_mito</th>\n      <th>pct_counts_mito</th>\n      <th>total_counts_ribo</th>\n      <th>pct_counts_ribo</th>\n      <th>n_counts</th>\n      <th>control_batch</th>\n      <th>barcode</th>\n    </tr>\n    <tr>\n      <th>barcode</th>\n      <th></th>\n      <th></th>\n      <th></th>\n      <th></th>\n      <th></th>\n      <th></th>\n      <th></th>\n      <th></th>\n      <th></th>\n      <th></th>\n      <th></th>\n      <th></th>\n      <th></th>\n      <th></th>\n      <th></th>\n      <th></th>\n      <th></th>\n      <th></th>\n      <th></th>\n      <th></th>\n      <th></th>\n    </tr>\n  </thead>\n  <tbody>\n    <tr>\n      <th>SC100_AAACCTGAGAAACCGC</th>\n      <td>1256/1/18</td>\n      <td>1256.0</td>\n      <td>2020-03-30 11:30:00.00</td>\n      <td>2020-04-16</td>\n      <td>1.0</td>\n      <td>18.0</td>\n      <td>1256/1/18/VAP</td>\n      <td>1256-BAL-00</td>\n      <td>0.0</td>\n      <td>Home</td>\n      <td>...</td>\n      <td>1437.0</td>\n      <td>14.335421</td>\n      <td>23.799582</td>\n      <td>45.0</td>\n      <td>3.131524</td>\n      <td>542.0</td>\n      <td>37.717468</td>\n      <td>732.0</td>\n      <td>1</td>\n      <td>SC100_AAACCTGAGAAACCGC</td>\n    </tr>\n    <tr>\n      <th>SC100_AAACCTGAGTCACGCC</th>\n      <td>1256/1/18</td>\n      <td>1256.0</td>\n      <td>2020-03-30 11:30:00.00</td>\n      <td>2020-04-16</td>\n      <td>1.0</td>\n      <td>18.0</td>\n      <td>1256/1/18/VAP</td>\n      <td>1256-BAL-00</td>\n      <td>0.0</td>\n      <td>Home</td>\n      <td>...</td>\n      <td>1269.0</td>\n      <td>13.238771</td>\n      <td>19.779354</td>\n      <td>55.0</td>\n      <td>4.334121</td>\n      <td>278.0</td>\n      <td>21.907013</td>\n      <td>590.0</td>\n      <td>1</td>\n      <td>SC100_AAACCTGAGTCACGCC</td>\n    </tr>\n    <tr>\n      <th>SC100_AAACCTGCACACCGCA</th>\n      <td>1256/1/18</td>\n      <td>1256.0</td>\n      <td>2020-03-30 11:30:00.00</td>\n      <td>2020-04-16</td>\n      <td>1.0</td>\n      <td>18.0</td>\n      <td>1256/1/18/VAP</td>\n      <td>1256-BAL-00</td>\n      <td>0.0</td>\n      <td>Home</td>\n      <td>...</td>\n      <td>1081.0</td>\n      <td>12.395930</td>\n      <td>19.241443</td>\n      <td>46.0</td>\n      <td>4.255319</td>\n      <td>225.0</td>\n      <td>20.814060</td>\n      <td>474.0</td>\n      <td>1</td>\n      <td>SC100_AAACCTGCACACCGCA</td>\n    </tr>\n    <tr>\n      <th>SC100_AAACCTGCAGTTTACG</th>\n      <td>1256/1/18</td>\n      <td>1256.0</td>\n      <td>2020-03-30 11:30:00.00</td>\n      <td>2020-04-16</td>\n      <td>1.0</td>\n      <td>18.0</td>\n      <td>1256/1/18/VAP</td>\n      <td>1256-BAL-00</td>\n      <td>0.0</td>\n      <td>Home</td>\n      <td>...</td>\n      <td>1189.0</td>\n      <td>17.157275</td>\n      <td>24.222035</td>\n      <td>101.0</td>\n      <td>8.494533</td>\n      <td>171.0</td>\n      <td>14.381833</td>\n      <td>557.0</td>\n      <td>1</td>\n      <td>SC100_AAACCTGCAGTTTACG</td>\n    </tr>\n    <tr>\n      <th>SC100_AAACCTGGTCAAGCGA</th>\n      <td>1256/1/18</td>\n      <td>1256.0</td>\n      <td>2020-03-30 11:30:00.00</td>\n      <td>2020-04-16</td>\n      <td>1.0</td>\n      <td>18.0</td>\n      <td>1256/1/18/VAP</td>\n      <td>1256-BAL-00</td>\n      <td>0.0</td>\n      <td>Home</td>\n      <td>...</td>\n      <td>1932.0</td>\n      <td>13.302277</td>\n      <td>20.703934</td>\n      <td>69.0</td>\n      <td>3.571429</td>\n      <td>568.0</td>\n      <td>29.399586</td>\n      <td>866.0</td>\n      <td>1</td>\n      <td>SC100_AAACCTGGTCAAGCGA</td>\n    </tr>\n    <tr>\n      <th>...</th>\n      <td>...</td>\n      <td>...</td>\n      <td>...</td>\n      <td>...</td>\n      <td>...</td>\n      <td>...</td>\n      <td>...</td>\n      <td>...</td>\n      <td>...</td>\n      <td>...</td>\n      <td>...</td>\n      <td>...</td>\n      <td>...</td>\n      <td>...</td>\n      <td>...</td>\n      <td>...</td>\n      <td>...</td>\n      <td>...</td>\n      <td>...</td>\n      <td>...</td>\n      <td>...</td>\n    </tr>\n    <tr>\n      <th>SC99_TTTGTCAAGGATGCGT</th>\n      <td>1256/1/18</td>\n      <td>1256.0</td>\n      <td>2020-03-30 11:30:00.00</td>\n      <td>2020-04-16</td>\n      <td>1.0</td>\n      <td>18.0</td>\n      <td>1256/1/18/VAP</td>\n      <td>1256-BAL-00</td>\n      <td>0.0</td>\n      <td>Home</td>\n      <td>...</td>\n      <td>2046.0</td>\n      <td>13.440860</td>\n      <td>20.625611</td>\n      <td>61.0</td>\n      <td>2.981427</td>\n      <td>587.0</td>\n      <td>28.690126</td>\n      <td>985.0</td>\n      <td>1</td>\n      <td>SC99_TTTGTCAAGGATGCGT</td>\n    </tr>\n    <tr>\n      <th>SC99_TTTGTCAAGGCAAAGA</th>\n      <td>1256/1/18</td>\n      <td>1256.0</td>\n      <td>2020-03-30 11:30:00.00</td>\n      <td>2020-04-16</td>\n      <td>1.0</td>\n      <td>18.0</td>\n      <td>1256/1/18/VAP</td>\n      <td>1256-BAL-00</td>\n      <td>0.0</td>\n      <td>Home</td>\n      <td>...</td>\n      <td>1768.0</td>\n      <td>10.803167</td>\n      <td>16.968326</td>\n      <td>91.0</td>\n      <td>5.147059</td>\n      <td>371.0</td>\n      <td>20.984163</td>\n      <td>773.0</td>\n      <td>1</td>\n      <td>SC99_TTTGTCAAGGCAAAGA</td>\n    </tr>\n    <tr>\n      <th>SC99_TTTGTCAAGTCGTACT</th>\n      <td>1256/1/18</td>\n      <td>1256.0</td>\n      <td>2020-03-30 11:30:00.00</td>\n      <td>2020-04-16</td>\n      <td>1.0</td>\n      <td>18.0</td>\n      <td>1256/1/18/VAP</td>\n      <td>1256-BAL-00</td>\n      <td>0.0</td>\n      <td>Home</td>\n      <td>...</td>\n      <td>2087.0</td>\n      <td>11.164351</td>\n      <td>18.447532</td>\n      <td>65.0</td>\n      <td>3.114519</td>\n      <td>515.0</td>\n      <td>24.676569</td>\n      <td>1009.0</td>\n      <td>1</td>\n      <td>SC99_TTTGTCAAGTCGTACT</td>\n    </tr>\n    <tr>\n      <th>SC99_TTTGTCACACCACCAG</th>\n      <td>1256/1/18</td>\n      <td>1256.0</td>\n      <td>2020-03-30 11:30:00.00</td>\n      <td>2020-04-16</td>\n      <td>1.0</td>\n      <td>18.0</td>\n      <td>1256/1/18/VAP</td>\n      <td>1256-BAL-00</td>\n      <td>0.0</td>\n      <td>Home</td>\n      <td>...</td>\n      <td>1519.0</td>\n      <td>14.088216</td>\n      <td>21.329822</td>\n      <td>120.0</td>\n      <td>7.899934</td>\n      <td>289.0</td>\n      <td>19.025675</td>\n      <td>728.0</td>\n      <td>1</td>\n      <td>SC99_TTTGTCACACCACCAG</td>\n    </tr>\n    <tr>\n      <th>SC99_TTTGTCAGTTGGTGGA</th>\n      <td>1256/1/18</td>\n      <td>1256.0</td>\n      <td>2020-03-30 11:30:00.00</td>\n      <td>2020-04-16</td>\n      <td>1.0</td>\n      <td>18.0</td>\n      <td>1256/1/18/VAP</td>\n      <td>1256-BAL-00</td>\n      <td>0.0</td>\n      <td>Home</td>\n      <td>...</td>\n      <td>2203.0</td>\n      <td>12.846119</td>\n      <td>19.927372</td>\n      <td>62.0</td>\n      <td>2.814344</td>\n      <td>570.0</td>\n      <td>25.873808</td>\n      <td>1083.0</td>\n      <td>1</td>\n      <td>SC99_TTTGTCAGTTGGTGGA</td>\n    </tr>\n  </tbody>\n</table>\n<p>3017150 rows × 64 columns</p>\n</div>"
     },
     "execution_count": 6,
     "metadata": {},
     "output_type": "execute_result"
    }
   ],
   "source": [
    "adata.obs"
   ],
   "metadata": {
    "collapsed": false,
    "ExecuteTime": {
     "end_time": "2023-10-20T22:00:43.062161965Z",
     "start_time": "2023-10-20T22:00:41.533635617Z"
    }
   },
   "id": "476b3e44a75da93a"
  },
  {
   "cell_type": "code",
   "execution_count": 28,
   "outputs": [
    {
     "name": "stderr",
     "output_type": "stream",
     "text": [
      "UsageError: Line magic function `%screen` not found.\n"
     ]
    }
   ],
   "source": [],
   "metadata": {
    "collapsed": false,
    "ExecuteTime": {
     "end_time": "2023-10-20T21:55:23.234155202Z",
     "start_time": "2023-10-20T21:55:23.194425844Z"
    }
   },
   "id": "db2fbefebbc92509"
  },
  {
   "cell_type": "code",
   "execution_count": null,
   "outputs": [],
   "source": [],
   "metadata": {
    "collapsed": false
   },
   "id": "eb5d45115a13afc3"
  }
 ],
 "metadata": {
  "kernelspec": {
   "display_name": "Python 3",
   "language": "python",
   "name": "python3"
  },
  "language_info": {
   "codemirror_mode": {
    "name": "ipython",
    "version": 2
   },
   "file_extension": ".py",
   "mimetype": "text/x-python",
   "name": "python",
   "nbconvert_exporter": "python",
   "pygments_lexer": "ipython2",
   "version": "2.7.6"
  }
 },
 "nbformat": 4,
 "nbformat_minor": 5
}
